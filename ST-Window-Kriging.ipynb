{
 "cells": [
  {
   "cell_type": "code",
   "execution_count": null,
   "metadata": {},
   "outputs": [],
   "source": [
    "import numpy as np\n",
    "import pandas as pd\n",
    "pd.options.mode.chained_assignment = None\n",
    "import xarray as xr \n",
    "from sklearn.preprocessing import StandardScaler\n",
    "import datetime\n",
    "import tools\n",
    "from tools import *\n"
   ]
  },
  {
   "cell_type": "markdown",
   "metadata": {},
   "source": [
    "## Input data, Area Selection, Mask and Subsampling"
   ]
  },
  {
   "cell_type": "code",
   "execution_count": null,
   "metadata": {},
   "outputs": [],
   "source": [
    "lat_min ,lat_max, lon_min , lon_max, extra = 32, 42, 360-128,360-116, 1\n",
    "\n",
    "l3 = xr.open_dataset('~/Documents/OK-ST-package/sample_data/L3_CALIFORNIA_2018_all_missions.nc').rename({'sla_filtered':'resid'})\n",
    "l3 = select_data_xarray(l3,lat_min-extra, lat_max+extra, lon_min-extra, lon_max+extra, 2018, 2018).to_dataframe().dropna()\n",
    "\n",
    "grid = xr.open_dataset(\"~/Documents/OK-ST-package/sample_data/DUACS_GRID_CALIFORNIA_2018.nc\")\n",
    "grid = select_data_xarray(grid,lat_min, lat_max, lon_min-360, lon_max-360, 2018, 2018)\n",
    "\n",
    "# build land mask from cmems grid own grid can be inlcuded: add mask for land if possible otherwise \n",
    "# only works when 'sla' is given e.g. when supplying cmems gridded data as grid \n",
    "grid['mask'] = np.invert(np.isnan(grid['sla']))    \n",
    "grid=grid.to_dataframe().reset_index()\n",
    "grid['land'] =1\n",
    "grid['land'][grid['mask'].values==False]=np.nan\n",
    "\n",
    "l3         = l3[['longitude','latitude','resid']].dropna()\n",
    "l3         = l3[::10]\n",
    "l3['time'] = l3.index;"
   ]
  },
  {
   "cell_type": "markdown",
   "metadata": {},
   "source": [
    "## Select Window and Scale:"
   ]
  },
  {
   "cell_type": "code",
   "execution_count": null,
   "metadata": {},
   "outputs": [
    {
     "name": "stdout",
     "output_type": "stream",
     "text": [
      "Processing time: 2018-05-05 00:00:00\n",
      "Making temporal matrix...\n",
      "Making distance matrix...\n",
      "Making value matrix...\n",
      "Fitting Results for time 2018-05-05 00:00:00:\n",
      "  MAE: 0.1132, RMSE: 0.1572, R^2: 0.4383\n",
      "2018-05-05 00:00:00\n",
      "Preparing...\n"
     ]
    },
    {
     "data": {
      "application/vnd.jupyter.widget-view+json": {
       "model_id": "251e44c1d16649579f30ea7cb4cc2074",
       "version_major": 2,
       "version_minor": 0
      },
      "text/plain": [
       "  0%|          | 0/1920 [00:00<?, ?it/s]"
      ]
     },
     "metadata": {},
     "output_type": "display_data"
    }
   ],
   "source": [
    "# Define the time period of Kriging:\n",
    "start_date = pd.to_datetime(datetime.date(2018,5,5))\n",
    "end_date   = pd.to_datetime(datetime.date(2018,5,6))\n",
    "run_time   = pd.date_range(start=start_date, end=end_date)\n",
    "\n",
    "import importlib\n",
    "importlib.reload(tools)\n",
    "\n",
    "'''\n",
    "Input parameters: \n",
    "\n",
    "l3 (DataFrame)      : DataFrame containing residual data with a time index. 'latitude', 'longitude' and 'resid' needs to be given.  \n",
    "grid (DataFrame)    : \n",
    "hs/ht range (tuple) :      \n",
    "estimator (str)     : Kind of estimation of the esxperimental variogram in space-time. Choose between 'matheron' or 'cressie'. Default is #matheron'.\n",
    "func (callable)     : Function of building the space-time variogram model. 'sum-metric' tested and implememted.\n",
    "plot (bool)         : Whether to plot the experimental and modeled variograms.\n",
    "exact (bool)        : Controlls smoothness of the prediction. True (default) sets diagonal of the Kriging matrix to zero, smoothing the result, allwing more deviation from the observations. \n",
    "\n",
    "Kriging (optional): \n",
    "\n",
    "  - if Kriging = False --> function returns 2 parameters (paras and fitting quality)\n",
    "  - if Kriging = True  --> Function returns dataframe given as grid, added OK-ST and OK-ST-error\n",
    "\n",
    "Saving Grid (optional):\n",
    "\n",
    "    a valid path for 'save_as_csv    = /.../...' for save as CSV\n",
    "    a valid path for 'save_as_netcdf = /.../...' for save as NETCDF \n",
    "\n",
    "\n",
    "'''\n",
    "for xtime in run_time:\n",
    "  df = fit_empirical_variogram( xtime      = xtime,\n",
    "                                l3         = l3,    \n",
    "                                grid       = grid,\n",
    "                                n_days     = 5, \n",
    "                                hs_range   = (0,200,10),\n",
    "                                ht_range   = (0,5,10), \n",
    "                                estimator  = 'matheron', \n",
    "                                func       = sum_metric_model, \n",
    "                                plot       = True, \n",
    "                                Kriging    = True,\n",
    "                                exact      = False)\n",
    "  \n",
    "\n",
    "\n",
    "  #### Build xarray and make a daily test plot for checking the results:\n",
    "  ds = df.set_index(['time','latitude','longitude']).to_xarray()\n",
    "\n",
    "  fig,axis = plt.subplot_mosaic(\"\"\"AB\n",
    "                                  AB\n",
    "                                  CD\"\"\", figsize=(8,5), layout='constrained',gridspec_kw={'hspace': 0.1, 'wspace': 0.1}, )   \n",
    "\n",
    "  a1 = axis['A'].contourf(ds.longitude,ds.latitude,ds.OK_ST[0,:,:],levels=40,cmap='RdYlBu_r', vmin=-0.1, vmax=0.3);\n",
    "  plt.colorbar(a1, ax=axis['A']);axis['A'].set_title('prediction');\n",
    "  a2 = axis['B'].contourf(ds.longitude,ds.latitude,ds.sla[0,:,:],levels = 40,cmap='RdYlBu_r', vmin=-0.1, vmax=0.3);\n",
    "  plt.colorbar(a2, ax=axis['B']);axis['B'].set_title('cmems');\n",
    "\n",
    "  axis['C'].hist(ds.OK_ST[0,:,:].values.flatten(), bins=100);\n",
    "  axis['C'].set_title('prediction')\n",
    "  axis['D'].hist(ds.sla[0,:,:].values.flatten(), bins=100);\n",
    "  axis['D'].set_title('cmems');\n"
   ]
  },
  {
   "cell_type": "markdown",
   "metadata": {},
   "source": [
    "## build requirements.txt"
   ]
  },
  {
   "cell_type": "code",
   "execution_count": 23,
   "metadata": {},
   "outputs": [
    {
     "name": "stdout",
     "output_type": "stream",
     "text": [
      "Used packages and their versions in this notebook:\n",
      "sys: No version attribute\n",
      "importlib: No version attribute\n",
      "datetime: No version attribute\n",
      "pkg_resources: No version attribute\n",
      "scipy: 1.10.1\n",
      "haversine: No version attribute\n",
      "tqdm: 4.64.1\n",
      "tools: No version attribute\n"
     ]
    }
   ],
   "source": [
    "import sys\n",
    "import importlib\n",
    "\n",
    "# Get the list of used packages (filtering out internal modules)\n",
    "used_packages = [name for name, module in sys.modules.items() if name in globals()]\n",
    "\n",
    "print(\"Used packages and their versions in this notebook:\")\n",
    "for package in used_packages:\n",
    "    try:\n",
    "        # Import the module dynamically to check for version\n",
    "        mod = importlib.import_module(package)\n",
    "        version = getattr(mod, '__version__', 'No version attribute')\n",
    "        print(f\"{package}: {version}\")\n",
    "    except ModuleNotFoundError:\n",
    "        print(f\"{package}: Module not found\")\n",
    "    except Exception as e:\n",
    "        print(f\"{package}: Error retrieving version - {e}\")"
   ]
  },
  {
   "cell_type": "code",
   "execution_count": null,
   "metadata": {},
   "outputs": [],
   "source": []
  }
 ],
 "metadata": {
  "kernelspec": {
   "display_name": "base",
   "language": "python",
   "name": "python3"
  },
  "language_info": {
   "codemirror_mode": {
    "name": "ipython",
    "version": 3
   },
   "file_extension": ".py",
   "mimetype": "text/x-python",
   "name": "python",
   "nbconvert_exporter": "python",
   "pygments_lexer": "ipython3",
   "version": "3.8.19"
  }
 },
 "nbformat": 4,
 "nbformat_minor": 2
}
