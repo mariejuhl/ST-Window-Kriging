{
 "cells": [
  {
   "cell_type": "markdown",
   "metadata": {},
   "source": [
    "### **Spatio Temporal Window Kriging** for mapping daily Sea Level Anomalies from satellite altimetry along-track data (L3 to L4) "
   ]
  },
  {
   "cell_type": "markdown",
   "metadata": {},
   "source": [
    "This notebook can be used to produce daily Sea Level Anomalie Grids from along-track satellite altimetry data for California in 2018. The gridded data are published at SEANOE under https://doi.org/10.17882/103947.\n",
    "\n",
    "The approach is based on Ordinary Kriging in a moving $\\pm$ 5-day time window around the target day. Kriging is done by building an empirical variogram from the observations (along-track data) and fitting a sum-metric semi-variogram model, which is the base for the Kriging matrix. For details on Kriging, we recommend literature$^*$ listed below. The approach uses along-track data from CMEMS as input data (https://doi.org/10.48670/moi-00146) and produces gridded data comparable to their maps (https://doi.org/10.48670/moi-00149).\n",
    "\n",
    "*See for details: https://github.com/mariejuhl/ST-Window-Kriging/edit/main/README.md\n"
   ]
  },
  {
   "cell_type": "markdown",
   "metadata": {},
   "source": [
    "### 1. Import Dependencies"
   ]
  },
  {
   "cell_type": "code",
   "execution_count": 4,
   "metadata": {},
   "outputs": [
    {
     "data": {
      "text/html": [
       "<style>.container { width:90% !important; }</style>"
      ],
      "text/plain": [
       "<IPython.core.display.HTML object>"
      ]
     },
     "metadata": {},
     "output_type": "display_data"
    }
   ],
   "source": [
    "import numpy as np\n",
    "import pandas as pd\n",
    "pd.options.mode.chained_assignment = None\n",
    "import xarray as xr \n",
    "from sklearn.preprocessing import StandardScaler\n",
    "import datetime\n",
    "import tools\n",
    "from tools import *\n",
    "from IPython.display import display, HTML\n",
    "display(HTML(\"<style>.container { width:90% !important; }</style>\"))"
   ]
  },
  {
   "cell_type": "markdown",
   "metadata": {},
   "source": [
    "### 2. Input data, Area Selection, Mask and Subsampling"
   ]
  },
  {
   "cell_type": "code",
   "execution_count": 2,
   "metadata": {},
   "outputs": [
    {
     "data": {
      "text/html": [
       "<div>\n",
       "<style scoped>\n",
       "    .dataframe tbody tr th:only-of-type {\n",
       "        vertical-align: middle;\n",
       "    }\n",
       "\n",
       "    .dataframe tbody tr th {\n",
       "        vertical-align: top;\n",
       "    }\n",
       "\n",
       "    .dataframe thead th {\n",
       "        text-align: right;\n",
       "    }\n",
       "</style>\n",
       "<table border=\"1\" class=\"dataframe\">\n",
       "  <thead>\n",
       "    <tr style=\"text-align: right;\">\n",
       "      <th></th>\n",
       "      <th>longitude</th>\n",
       "      <th>latitude</th>\n",
       "      <th>resid</th>\n",
       "      <th>source</th>\n",
       "      <th>time</th>\n",
       "    </tr>\n",
       "    <tr>\n",
       "      <th>time</th>\n",
       "      <th></th>\n",
       "      <th></th>\n",
       "      <th></th>\n",
       "      <th></th>\n",
       "      <th></th>\n",
       "    </tr>\n",
       "  </thead>\n",
       "  <tbody>\n",
       "    <tr>\n",
       "      <th>2018-05-28 00:50:58.257118464</th>\n",
       "      <td>243.053802</td>\n",
       "      <td>31.031515</td>\n",
       "      <td>-0.045</td>\n",
       "      <td>Jason-3</td>\n",
       "      <td>2018-05-28 00:50:58.257118464</td>\n",
       "    </tr>\n",
       "    <tr>\n",
       "      <th>2018-05-28 00:51:03.650018560</th>\n",
       "      <td>243.190295</td>\n",
       "      <td>31.285458</td>\n",
       "      <td>-0.014</td>\n",
       "      <td>Jason-3</td>\n",
       "      <td>2018-05-28 00:51:03.650018560</td>\n",
       "    </tr>\n",
       "    <tr>\n",
       "      <th>2018-05-28 10:43:35.944641024</th>\n",
       "      <td>233.856473</td>\n",
       "      <td>42.986391</td>\n",
       "      <td>0.100</td>\n",
       "      <td>Jason-3</td>\n",
       "      <td>2018-05-28 10:43:35.944641024</td>\n",
       "    </tr>\n",
       "    <tr>\n",
       "      <th>2018-05-28 10:43:41.337541120</th>\n",
       "      <td>234.050309</td>\n",
       "      <td>42.746587</td>\n",
       "      <td>0.004</td>\n",
       "      <td>Jason-3</td>\n",
       "      <td>2018-05-28 10:43:41.337541120</td>\n",
       "    </tr>\n",
       "    <tr>\n",
       "      <th>2018-05-28 10:43:46.730441216</th>\n",
       "      <td>234.242484</td>\n",
       "      <td>42.506367</td>\n",
       "      <td>0.063</td>\n",
       "      <td>Jason-3</td>\n",
       "      <td>2018-05-28 10:43:46.730441216</td>\n",
       "    </tr>\n",
       "    <tr>\n",
       "      <th>...</th>\n",
       "      <td>...</td>\n",
       "      <td>...</td>\n",
       "      <td>...</td>\n",
       "      <td>...</td>\n",
       "      <td>...</td>\n",
       "    </tr>\n",
       "    <tr>\n",
       "      <th>2018-10-10 16:10:37.362946816</th>\n",
       "      <td>238.037282</td>\n",
       "      <td>32.379925</td>\n",
       "      <td>0.201</td>\n",
       "      <td>Cryosat-2</td>\n",
       "      <td>2018-10-10 16:10:37.362946816</td>\n",
       "    </tr>\n",
       "    <tr>\n",
       "      <th>2018-10-10 16:10:42.079947008</th>\n",
       "      <td>238.003499</td>\n",
       "      <td>32.093354</td>\n",
       "      <td>0.152</td>\n",
       "      <td>Cryosat-2</td>\n",
       "      <td>2018-10-10 16:10:42.079947008</td>\n",
       "    </tr>\n",
       "    <tr>\n",
       "      <th>2018-10-10 16:10:46.796946944</th>\n",
       "      <td>237.969803</td>\n",
       "      <td>31.806769</td>\n",
       "      <td>0.130</td>\n",
       "      <td>Cryosat-2</td>\n",
       "      <td>2018-10-10 16:10:46.796946944</td>\n",
       "    </tr>\n",
       "    <tr>\n",
       "      <th>2018-10-10 16:10:51.513947136</th>\n",
       "      <td>237.936192</td>\n",
       "      <td>31.520169</td>\n",
       "      <td>0.106</td>\n",
       "      <td>Cryosat-2</td>\n",
       "      <td>2018-10-10 16:10:51.513947136</td>\n",
       "    </tr>\n",
       "    <tr>\n",
       "      <th>2018-10-10 16:10:56.230947072</th>\n",
       "      <td>237.902667</td>\n",
       "      <td>31.233555</td>\n",
       "      <td>0.083</td>\n",
       "      <td>Cryosat-2</td>\n",
       "      <td>2018-10-10 16:10:56.230947072</td>\n",
       "    </tr>\n",
       "  </tbody>\n",
       "</table>\n",
       "<p>43139 rows × 5 columns</p>\n",
       "</div>"
      ],
      "text/plain": [
       "                                longitude   latitude  resid     source  \\\n",
       "time                                                                     \n",
       "2018-05-28 00:50:58.257118464  243.053802  31.031515 -0.045    Jason-3   \n",
       "2018-05-28 00:51:03.650018560  243.190295  31.285458 -0.014    Jason-3   \n",
       "2018-05-28 10:43:35.944641024  233.856473  42.986391  0.100    Jason-3   \n",
       "2018-05-28 10:43:41.337541120  234.050309  42.746587  0.004    Jason-3   \n",
       "2018-05-28 10:43:46.730441216  234.242484  42.506367  0.063    Jason-3   \n",
       "...                                   ...        ...    ...        ...   \n",
       "2018-10-10 16:10:37.362946816  238.037282  32.379925  0.201  Cryosat-2   \n",
       "2018-10-10 16:10:42.079947008  238.003499  32.093354  0.152  Cryosat-2   \n",
       "2018-10-10 16:10:46.796946944  237.969803  31.806769  0.130  Cryosat-2   \n",
       "2018-10-10 16:10:51.513947136  237.936192  31.520169  0.106  Cryosat-2   \n",
       "2018-10-10 16:10:56.230947072  237.902667  31.233555  0.083  Cryosat-2   \n",
       "\n",
       "                                                       time  \n",
       "time                                                         \n",
       "2018-05-28 00:50:58.257118464 2018-05-28 00:50:58.257118464  \n",
       "2018-05-28 00:51:03.650018560 2018-05-28 00:51:03.650018560  \n",
       "2018-05-28 10:43:35.944641024 2018-05-28 10:43:35.944641024  \n",
       "2018-05-28 10:43:41.337541120 2018-05-28 10:43:41.337541120  \n",
       "2018-05-28 10:43:46.730441216 2018-05-28 10:43:46.730441216  \n",
       "...                                                     ...  \n",
       "2018-10-10 16:10:37.362946816 2018-10-10 16:10:37.362946816  \n",
       "2018-10-10 16:10:42.079947008 2018-10-10 16:10:42.079947008  \n",
       "2018-10-10 16:10:46.796946944 2018-10-10 16:10:46.796946944  \n",
       "2018-10-10 16:10:51.513947136 2018-10-10 16:10:51.513947136  \n",
       "2018-10-10 16:10:56.230947072 2018-10-10 16:10:56.230947072  \n",
       "\n",
       "[43139 rows x 5 columns]"
      ]
     },
     "execution_count": 2,
     "metadata": {},
     "output_type": "execute_result"
    }
   ],
   "source": [
    "lat_min ,lat_max, lon_min , lon_max, extra = 32, 42, 360-128,360-116, 1\n",
    "\n",
    "## input data \n",
    "l3 = xr.open_dataset('sample_data/L3_CALIFORNIA_2018_all_missions.nc').rename({'sla_unfiltered':'resid'})\n",
    "l3 = select_data_xarray(l3,lat_min-extra, lat_max+extra, lon_min-extra, lon_max+extra, 2018, 2018).to_dataframe().dropna()\n",
    "\n",
    "## sample grid used from CMEMS:\n",
    "grid = xr.open_dataset(\"sample_data/DUACS_GRID_CALIFORNIA_2018.nc\")\n",
    "grid = select_data_xarray(grid,lat_min, lat_max, lon_min-360, lon_max-360, 2018, 2018)\n",
    "\n",
    "# build land mask from CMEMS grid, own grid can be inlcuded: add mask for land if possible \n",
    "# otherwise prediction will be made where 'sla' is given e.g. when supplying CMEMS gridded data as grid \n",
    "grid['mask'] = np.invert(np.isnan(grid['sla']))    \n",
    "grid=grid.to_dataframe().reset_index()\n",
    "grid['land'] =1\n",
    "grid['land'][grid['mask'].values==False]=np.nan\n",
    "\n",
    "## reorganizing and subsampling by 1/5th\n",
    "l3         = l3[['longitude','latitude','resid','source']].dropna()\n",
    "l3         = l3[::5] \n",
    "l3['time'] = l3.index;\n",
    "l3"
   ]
  },
  {
   "cell_type": "markdown",
   "metadata": {},
   "source": [
    "### 3. Producing daily Maps:"
   ]
  },
  {
   "cell_type": "code",
   "execution_count": null,
   "metadata": {},
   "outputs": [
    {
     "name": "stdout",
     "output_type": "stream",
     "text": [
      "Processing time: 2018-05-05 00:00:00\n",
      "Making temporal matrix...\n",
      "Making distance matrix...\n",
      "Making value matrix...\n",
      "Fitting Results for time 2018-05-05 00:00:00:\n",
      "  MAE: 0.1126, RMSE: 0.1598, R^2: 0.6048\n",
      "2018-05-05 00:00:00\n",
      "Preparing...\n"
     ]
    },
    {
     "data": {
      "application/vnd.jupyter.widget-view+json": {
       "model_id": "51c0c9b4165b42bebaee06258fabe181",
       "version_major": 2,
       "version_minor": 0
      },
      "text/plain": [
       "  0%|          | 0/1920 [00:00<?, ?it/s]"
      ]
     },
     "metadata": {},
     "output_type": "display_data"
    }
   ],
   "source": [
    "# Define the time period of Kriging:\n",
    "start_date = pd.to_datetime(datetime.date(2018,5,5))\n",
    "end_date   = pd.to_datetime(datetime.date(2018,5,5))\n",
    "run_time   = pd.date_range(start=start_date, end=end_date)\n",
    "\n",
    "import importlib\n",
    "importlib.reload(tools)\n",
    "\n",
    "\n",
    "'''\n",
    "Input parameters: \n",
    "\n",
    "l3 (DataFrame)      : DataFrame containing residual data with a time index. 'latitude', 'longitude' and 'resid' needs to be given.  \n",
    "grid (DataFrame)    : Empty Grid provided containing, e.g. CMEMS grid provided with land mask to only predict ocean points\n",
    "hs/ht range (tuple) : Bins in space and time: Bin number must be the same in space and time !!!     \n",
    "estimator (str)     : Kind of estimation of the esxperimental variogram in space-time. Choose between 'matheron' or 'cressie'. Default is #matheron'.\n",
    "func (callable)     : Function of building the space-time variogram model. 'sum-metric' tested and implememted.\n",
    "plot (bool)         : Whether to plot the experimental and modeled variograms for each day.\n",
    "exact (bool)        : Controlls smoothness of the prediction. True (default) sets diagonal of the Kriging matrix to zero, smoothing the result, allwing more deviation from the observations. \n",
    "\n",
    "Kriging (optional): \n",
    "\n",
    "  - if Kriging = False --> function returns 2 parameters (paras and fitting quality)\n",
    "  - if Kriging = True  --> Function returns dataframe given as grid, added OK-ST and OK-ST-error\n",
    "\n",
    "Saving Grid (optional):\n",
    "\n",
    "    a valid path for 'save_as_csv    = /.../...' for save as CSV\n",
    "    a valid path for 'save_as_netcdf = /.../...' for save as NETCDF '''\n",
    "\n",
    "\n",
    "for xtime in run_time:\n",
    "  df = ST_Window_Kriging( xtime                = xtime, \n",
    "                                l3             = l3,    \n",
    "                                grid           = grid,\n",
    "                                n_days         = 5, \n",
    "                                hs_range       = (0,200,10),\n",
    "                                ht_range       = (0,5,10), \n",
    "                                estimator      = 'matheron', \n",
    "                                func           = sum_metric_model, \n",
    "                                plot           = True, \n",
    "                                Kriging        = True,\n",
    "                                exact          = False, \n",
    "                                save_as_csv    = None,\n",
    "                                save_as_netcdf = None)\n",
    "  \n",
    "\n",
    "\n",
    "  # Daily test plot for checking the results is created:\n",
    "  ds = df.set_index(['time','latitude','longitude']).to_xarray()\n",
    "\n",
    "  fig,axis = plt.subplot_mosaic(\"\"\"AB\n",
    "                                   AB\n",
    "                                   CD\"\"\", figsize=(8,5), layout='constrained',gridspec_kw={'hspace': 0.1, 'wspace': 0.1}, )   \n",
    "\n",
    "  a1 = axis['A'].contourf(ds.longitude,ds.latitude,ds.OK_ST[0,:,:],levels=40,cmap='RdYlBu_r', vmin=-0.1, vmax=0.3);\n",
    "  plt.colorbar(a1, ax=axis['A']);axis['A'].set_title('OK-ST');\n",
    "  a2 = axis['B'].contourf(ds.longitude,ds.latitude,ds.sla[0,:,:],levels = 40,cmap='RdYlBu_r', vmin=-0.1, vmax=0.3);\n",
    "  plt.colorbar(a2, ax=axis['B']);axis['B'].set_title('CMEMS');\n",
    "\n",
    "  axis['C'].hist(ds.OK_ST[0,:,:].values.flatten(), bins=100);\n",
    "  axis['C'].set_title('OK-ST');\n",
    "  axis['C'].set_ylim(0,45);axis['C'].set_xlim(-0.15,0.2)\n",
    "  axis['D'].hist(ds.sla[0,:,:].values.flatten(), bins=100);\n",
    "  axis['D'].set_title('CMEMS');\n",
    "  axis['D'].set_ylim(0,45);axis['D'].set_xlim(-0.15,0.2)\n",
    "  plt.show()\n"
   ]
  },
  {
   "cell_type": "code",
   "execution_count": null,
   "metadata": {},
   "outputs": [],
   "source": []
  }
 ],
 "metadata": {
  "kernelspec": {
   "display_name": "Python 3 (ipykernel)",
   "language": "python",
   "name": "python3"
  },
  "language_info": {
   "codemirror_mode": {
    "name": "ipython",
    "version": 3
   },
   "file_extension": ".py",
   "mimetype": "text/x-python",
   "name": "python",
   "nbconvert_exporter": "python",
   "pygments_lexer": "ipython3",
   "version": "3.8.10"
  }
 },
 "nbformat": 4,
 "nbformat_minor": 4
}
